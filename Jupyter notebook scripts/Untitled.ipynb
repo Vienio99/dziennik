{
 "cells": [
  {
   "cell_type": "markdown",
   "id": "waiting-holder",
   "metadata": {},
   "source": [
    "<h1>Installing required third-party packages</h1>"
   ]
  },
  {
   "cell_type": "code",
   "execution_count": 52,
   "id": "specific-local",
   "metadata": {},
   "outputs": [
    {
     "name": "stdout",
     "output_type": "stream",
     "text": [
      "Requirement already satisfied: openpyxl in c:\\users\\krystian\\envs\\dziennik\\lib\\site-packages (3.0.6)\n",
      "Requirement already satisfied: et-xmlfile in c:\\users\\krystian\\envs\\dziennik\\lib\\site-packages (from openpyxl) (1.0.1)\n",
      "Requirement already satisfied: jdcal in c:\\users\\krystian\\envs\\dziennik\\lib\\site-packages (from openpyxl) (1.4.1)\n",
      "Requirement already satisfied: pandas in c:\\users\\krystian\\envs\\dziennik\\lib\\site-packages (1.2.1)\n",
      "Requirement already satisfied: numpy>=1.16.5 in c:\\users\\krystian\\envs\\dziennik\\lib\\site-packages (from pandas) (1.19.5)\n",
      "Requirement already satisfied: python-dateutil>=2.7.3 in c:\\users\\krystian\\envs\\dziennik\\lib\\site-packages (from pandas) (2.8.1)\n",
      "Requirement already satisfied: pytz>=2017.3 in c:\\users\\krystian\\envs\\dziennik\\lib\\site-packages (from pandas) (2020.5)\n",
      "Requirement already satisfied: six>=1.5 in c:\\users\\krystian\\envs\\dziennik\\lib\\site-packages (from python-dateutil>=2.7.3->pandas) (1.15.0)\n",
      "Requirement already satisfied: matplotlib in c:\\users\\krystian\\envs\\dziennik\\lib\\site-packages (3.3.3)\n",
      "Requirement already satisfied: numpy>=1.15 in c:\\users\\krystian\\envs\\dziennik\\lib\\site-packages (from matplotlib) (1.19.5)\n",
      "Requirement already satisfied: pyparsing!=2.0.4,!=2.1.2,!=2.1.6,>=2.0.3 in c:\\users\\krystian\\envs\\dziennik\\lib\\site-packages (from matplotlib) (2.4.7)\n",
      "Requirement already satisfied: pillow>=6.2.0 in c:\\users\\krystian\\envs\\dziennik\\lib\\site-packages (from matplotlib) (8.1.0)\n",
      "Requirement already satisfied: kiwisolver>=1.0.1 in c:\\users\\krystian\\envs\\dziennik\\lib\\site-packages (from matplotlib) (1.3.1)\n",
      "Requirement already satisfied: python-dateutil>=2.1 in c:\\users\\krystian\\envs\\dziennik\\lib\\site-packages (from matplotlib) (2.8.1)\n",
      "Requirement already satisfied: cycler>=0.10 in c:\\users\\krystian\\envs\\dziennik\\lib\\site-packages (from matplotlib) (0.10.0)\n",
      "Requirement already satisfied: six in c:\\users\\krystian\\envs\\dziennik\\lib\\site-packages (from cycler>=0.10->matplotlib) (1.15.0)\n"
     ]
    }
   ],
   "source": [
    "! pip install openpyxl\n",
    "! pip install pandas\n",
    "! pip install matplotlib"
   ]
  },
  {
   "cell_type": "code",
   "execution_count": 53,
   "id": "opposed-uniform",
   "metadata": {},
   "outputs": [],
   "source": [
    "import openpyxl, matplotlib, os, pandas as pd"
   ]
  },
  {
   "cell_type": "markdown",
   "id": "ecological-result",
   "metadata": {},
   "source": [
    "<h1>Calculate average for subject function</h1>"
   ]
  },
  {
   "cell_type": "code",
   "execution_count": 54,
   "id": "affected-turner",
   "metadata": {},
   "outputs": [
    {
     "name": "stdout",
     "output_type": "stream",
     "text": [
      "Enter a name of the subject: Matematyka\n",
      "4.0\n"
     ]
    }
   ],
   "source": [
    "def calculateAverageForSubject(subject):\n",
    "    wb = openpyxl.load_workbook('oceny-grupa1.xlsx')\n",
    "    sheet = wb[subject]\n",
    "\n",
    "    gradesList = []\n",
    "    for i in range(1, sheet.max_row + 1):\n",
    "        gradesList.append(sheet.cell(row=i, column=2).value)\n",
    "    \n",
    "    average = sum(gradesList) / len(gradesList)\n",
    "    print(round(average, 2))\n",
    "\n",
    "subject = input('Enter a name of the subject: ')\n",
    "calculateAverageForSubject(subject)"
   ]
  },
  {
   "cell_type": "markdown",
   "id": "expressed-folder",
   "metadata": {},
   "source": [
    "<h1>Calculate average for student function</h1>"
   ]
  },
  {
   "cell_type": "code",
   "execution_count": 55,
   "id": "hawaiian-jordan",
   "metadata": {},
   "outputs": [
    {
     "name": "stdout",
     "output_type": "stream",
     "text": [
      "Enter a name of the student: Piotr Mącisz\n",
      "3.5\n"
     ]
    }
   ],
   "source": [
    "def calculateAverageForStudent(student):\n",
    "    wb = openpyxl.load_workbook('oceny-grupa1.xlsx')\n",
    "    gradesList = []\n",
    "    for sheet in wb.worksheets:\n",
    "        sheet = wb[sheet.title]\n",
    "        for i in range(1, sheet.max_row + 1):\n",
    "            if sheet.cell(row=i, column=1).value == student:\n",
    "                gradesList.append(sheet.cell(row=i, column=2).value)\n",
    "    average = sum(gradesList) / len(gradesList)\n",
    "    print(average)\n",
    "\n",
    "student = input('Enter a name of the student: ')\n",
    "calculateAverageForStudent(student)"
   ]
  },
  {
   "cell_type": "markdown",
   "id": "sunset-directive",
   "metadata": {},
   "source": [
    "<h1>Calculate averages for all subjects</h1>"
   ]
  },
  {
   "cell_type": "code",
   "execution_count": 56,
   "id": "written-margin",
   "metadata": {},
   "outputs": [
    {
     "data": {
      "image/png": "[encoded data removed]",
      "text/plain": [
       "<Figure size 432x288 with 1 Axes>"
      ]
     },
     "metadata": {
      "needs_background": "light"
     },
     "output_type": "display_data"
    }
   ],
   "source": [
    "def calculateAverageForAllSubjects():\n",
    "\n",
    "  #Opening workbook\n",
    "  wb = openpyxl.load_workbook('oceny-grupa1.xlsx')\n",
    "\n",
    "  #Main dictionary in the function\n",
    "  averages = {}\n",
    "\n",
    "  #Iterating over sheets in the workbook\n",
    "  for sheet in wb.worksheets:\n",
    "    sheet = wb[sheet.title]\n",
    "\n",
    "    #Grades list for each subject\n",
    "    average = []\n",
    "\n",
    "    #Iterating over max rows and appending grades to average list\n",
    "    for i in range(1, sheet.max_row + 1):\n",
    "        average.append(sheet.cell(row=i, column=2).value)\n",
    "    \n",
    "    #Adding subject as a key and average as a value\n",
    "    averages[sheet.title] = round(sum(average) / sheet.max_row, 2)\n",
    "\n",
    "  #Sorting dictionary\n",
    "  averages = sorted([(value,key) for (key,value) in averages.items()], reverse=True)\n",
    "\n",
    "\n",
    "  #Making bar chart with pandas - we need separated subjects and averages from original averages list\n",
    "  subjectsSeparate = []\n",
    "  averagesSeparate = []\n",
    "  for x in range(len(averages)):\n",
    "    averagesSeparate.append(averages[x][0])\n",
    "    subjectsSeparate.append(averages[x][1])\n",
    "\n",
    "\n",
    "  df = pd.DataFrame({'Subject':subjectsSeparate, 'Average':averagesSeparate})\n",
    "  ax = df.plot.bar(x='Subject', y='Average', rot=0)\n",
    "\n",
    "calculateAverageForAllSubjects()"
   ]
  },
  {
   "cell_type": "markdown",
   "id": "urban-colon",
   "metadata": {},
   "source": [
    "<h1>Generate student ranking for subject</h1>"
   ]
  },
  {
   "cell_type": "code",
   "execution_count": 57,
   "id": "municipal-mentor",
   "metadata": {},
   "outputs": [
    {
     "name": "stdout",
     "output_type": "stream",
     "text": [
      "Enter a name of the subject: Matematyka\n",
      "1. Jan Kowalski, Albert Nowakowski\n",
      "2. Izabela Nowak, Franciszek Terczyński, Aneta Łakon\n",
      "3. Barbara Piekarska, Piotr Mącisz\n"
     ]
    }
   ],
   "source": [
    "def generateStudentRankingForSubject(subject):\n",
    "\n",
    "  #Opening workbook and sheet with the subject according to entered parameter\n",
    "  wb = openpyxl.load_workbook('oceny-grupa1.xlsx')\n",
    "  sheet = wb[subject]\n",
    "\n",
    "  #Main dictionary for the function\n",
    "  ranking = {}\n",
    "\n",
    "  #Iterating over max number of rows\n",
    "  for i in range(1, sheet.max_row + 1):\n",
    "\n",
    "    #If grade is already in ranking dictionary, append a student to a list, which is a value for the grade (many students can have the same grade)\n",
    "    if sheet.cell(row=i, column=2).value in ranking:\n",
    "      ranking[sheet.cell(row=i, column=2).value].append(sheet.cell(row=i, column=1).value)\n",
    "    \n",
    "    #If there is no such grade in dictionary, make a new key with list as a value\n",
    "    else:\n",
    "      ranking[sheet.cell(row=i, column=2).value] = [sheet.cell(row=i, column=1).value]\n",
    "\n",
    "  #Sort dictionary from highest to lowest value\n",
    "  ranking = dict(sorted(ranking.items(), reverse=True))\n",
    "\n",
    "  #Counter as a position in the ranking\n",
    "  counter = 1\n",
    "\n",
    "  #Iterating over lists of students in ranking dictionary \n",
    "  for students in ranking.values():\n",
    "    position = ''\n",
    "\n",
    "    #Iterating over students in a list\n",
    "    for student in students:\n",
    "      position += student + ', '\n",
    "\n",
    "    #Removing whitespace and comma from the end of each position\n",
    "    print(str(counter) + '. ' + position[:-2])\n",
    "    counter += 1\n",
    "\n",
    "#Input for entering the name of a subject\n",
    "subject = input('Enter a name of the subject: ')\n",
    "generateStudentRankingForSubject(subject)"
   ]
  },
  {
   "cell_type": "markdown",
   "id": "forced-throw",
   "metadata": {},
   "source": [
    "<h1>Generate student ranking for all subjects</h1>"
   ]
  },
  {
   "cell_type": "code",
   "execution_count": 58,
   "id": "informational-priority",
   "metadata": {},
   "outputs": [
    {
     "name": "stdout",
     "output_type": "stream",
     "text": [
      "1. Franciszek Terczyński\n",
      "2. Aneta Łakon\n",
      "3. Jan Kowalski, Barbara Piekarska, Albert Nowakowski\n",
      "4. Izabela Nowak\n",
      "5. Piotr Mącisz\n"
     ]
    }
   ],
   "source": [
    "def generateStudentRankingForAllSubjects():\n",
    "  #Opening workbook\n",
    "  wb = openpyxl.load_workbook('oceny-grupa1.xlsx')\n",
    "\n",
    "  #Dictionary with grades from every subject for each student \n",
    "  grades = {}\n",
    "\n",
    "  #Iterating over sheets in workbook sheets\n",
    "  for sheet in wb.worksheets:\n",
    "    sheet = wb[sheet.title]\n",
    "\n",
    "    #Iterating over max number of rows \n",
    "    for i in range(1, sheet.max_row + 1):\n",
    "\n",
    "      #If student is already in grades dictionary, append a grade to a list\n",
    "      if sheet.cell(row=i, column=1).value in grades:\n",
    "        grades[sheet.cell(row=i, column=1).value].append(sheet.cell(row=i, column=2).value)\n",
    "      \n",
    "      #If there is no student in dictionary, make a new key with grade as a value\n",
    "      else:\n",
    "        grades[sheet.cell(row=i, column=1).value] = [sheet.cell(row=i, column=2).value]\n",
    "  \n",
    "  #Iterating over students in grades dictionary and counting average\n",
    "  for student in grades.keys():\n",
    "    grades[student] = round(sum(grades[student])/len(wb.worksheets), 2)\n",
    "\n",
    "  #Ranking dictionary\n",
    "  ranking = {}\n",
    "\n",
    "  #Iterate over students and their averages\n",
    "  for student, average in grades.items():\n",
    "\n",
    "    #Appending students to grades\n",
    "    if average in ranking:\n",
    "      ranking[average].append(student)\n",
    "\n",
    "    #Making an average as a key and append students (many students can have the same grade)\n",
    "    else:\n",
    "      ranking[average] = [student]\n",
    "\n",
    "  #Sorting ranking dictionary \n",
    "  ranking = dict(sorted(ranking.items(), reverse=True))\n",
    "\n",
    "  #Counter as a position in the ranking\n",
    "  counter = 1\n",
    "\n",
    "  #Iterating over students in each key's value\n",
    "  for students in ranking.values():\n",
    "    position = ''\n",
    "    for student in students:\n",
    "      position += student + ', '\n",
    "    \n",
    "    #Printing position\n",
    "    print(str(counter) + '. ' + position[:-2])\n",
    "    counter += 1\n",
    "\n",
    "\n",
    "generateStudentRankingForAllSubjects()"
   ]
  }
 ],
 "metadata": {
  "kernelspec": {
   "display_name": "Python 3",
   "language": "python",
   "name": "python3"
  },
  "language_info": {
   "codemirror_mode": {
    "name": "ipython",
    "version": 3
   },
   "file_extension": ".py",
   "mimetype": "text/x-python",
   "name": "python",
   "nbconvert_exporter": "python",
   "pygments_lexer": "ipython3",
   "version": "3.9.1"
  }
 },
 "nbformat": 4,
 "nbformat_minor": 5
}
